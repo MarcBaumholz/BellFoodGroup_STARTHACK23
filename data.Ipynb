{
 "cells": [
  {
   "cell_type": "code",
   "execution_count": 31,
   "metadata": {},
   "outputs": [
    {
     "name": "stdout",
     "output_type": "stream",
     "text": [
      "Requirement already satisfied: openpyxl in c:\\users\\marcb\\appdata\\local\\packages\\pythonsoftwarefoundation.python.3.10_qbz5n2kfra8p0\\localcache\\local-packages\\python310\\site-packages (3.1.2)\n",
      "Requirement already satisfied: et-xmlfile in c:\\users\\marcb\\appdata\\local\\packages\\pythonsoftwarefoundation.python.3.10_qbz5n2kfra8p0\\localcache\\local-packages\\python310\\site-packages (from openpyxl) (1.1.0)\n",
      "Note: you may need to restart the kernel to use updated packages.\n"
     ]
    },
    {
     "name": "stderr",
     "output_type": "stream",
     "text": [
      "\n",
      "[notice] A new release of pip available: 22.3.1 -> 23.0.1\n",
      "[notice] To update, run: C:\\Users\\marcb\\AppData\\Local\\Microsoft\\WindowsApps\\PythonSoftwareFoundation.Python.3.10_qbz5n2kfra8p0\\python.exe -m pip install --upgrade pip\n"
     ]
    }
   ],
   "source": [
    "pip install openpyxl"
   ]
  },
  {
   "cell_type": "code",
   "execution_count": 32,
   "metadata": {},
   "outputs": [],
   "source": [
    "import pandas as pd\n",
    "\n",
    "# Specify the input and output file paths\n",
    "input_file = 'energy_Ampfing.xlsx'\n",
    "output_file = 'energy_Ampfing.csv'\n"
   ]
  },
  {
   "cell_type": "code",
   "execution_count": 33,
   "metadata": {},
   "outputs": [],
   "source": [
    "# Load the Excel file into a Pandas dataframe\n",
    "df = pd.read_excel(input_file)"
   ]
  },
  {
   "cell_type": "code",
   "execution_count": 34,
   "metadata": {},
   "outputs": [],
   "source": [
    "# Write the dataframe to a CSV file\n",
    "df.to_csv(output_file, index=False)"
   ]
  },
  {
   "cell_type": "code",
   "execution_count": 35,
   "metadata": {},
   "outputs": [
    {
     "data": {
      "text/html": [
       "<div>\n",
       "<style scoped>\n",
       "    .dataframe tbody tr th:only-of-type {\n",
       "        vertical-align: middle;\n",
       "    }\n",
       "\n",
       "    .dataframe tbody tr th {\n",
       "        vertical-align: top;\n",
       "    }\n",
       "\n",
       "    .dataframe thead th {\n",
       "        text-align: right;\n",
       "    }\n",
       "</style>\n",
       "<table border=\"1\" class=\"dataframe\">\n",
       "  <thead>\n",
       "    <tr style=\"text-align: right;\">\n",
       "      <th></th>\n",
       "      <th>SourceName</th>\n",
       "      <th>Hackaton_Werkeingang_Ampfing</th>\n",
       "      <th>Unnamed: 2</th>\n",
       "      <th>Unnamed: 3</th>\n",
       "    </tr>\n",
       "  </thead>\n",
       "  <tbody>\n",
       "    <tr>\n",
       "      <th>0</th>\n",
       "      <td>DPName</td>\n",
       "      <td>DE_Ampfing_Suetag_ELEG_FOR</td>\n",
       "      <td>DE_Ampfing_Suetag_WAEF_FOR</td>\n",
       "      <td>DE_Ampfing_Suetag_WASG_FOR</td>\n",
       "    </tr>\n",
       "    <tr>\n",
       "      <th>1</th>\n",
       "      <td>Actual Source name</td>\n",
       "      <td>DE_Ampfing_Suetag_ELEG_FOR</td>\n",
       "      <td>DE_Ampfing_Suetag_WAEF_FOR</td>\n",
       "      <td>DE_Ampfing_Suetag_WASG_FOR</td>\n",
       "    </tr>\n",
       "    <tr>\n",
       "      <th>2</th>\n",
       "      <td>Location</td>\n",
       "      <td>DE_Ampfing Sütag</td>\n",
       "      <td>DE_Ampfing Sütag</td>\n",
       "      <td>DE_Ampfing Sütag</td>\n",
       "    </tr>\n",
       "    <tr>\n",
       "      <th>3</th>\n",
       "      <td>Description</td>\n",
       "      <td>Active energy plant input</td>\n",
       "      <td>Total external heat energy</td>\n",
       "      <td>Water supply at plant entrance</td>\n",
       "    </tr>\n",
       "    <tr>\n",
       "      <th>4</th>\n",
       "      <td>Unit</td>\n",
       "      <td>kW</td>\n",
       "      <td>kW</td>\n",
       "      <td>m3/h</td>\n",
       "    </tr>\n",
       "    <tr>\n",
       "      <th>...</th>\n",
       "      <td>...</td>\n",
       "      <td>...</td>\n",
       "      <td>...</td>\n",
       "      <td>...</td>\n",
       "    </tr>\n",
       "    <tr>\n",
       "      <th>120861</th>\n",
       "      <td>2023-03-15 23:00:00</td>\n",
       "      <td>812.64</td>\n",
       "      <td>NaN</td>\n",
       "      <td>NaN</td>\n",
       "    </tr>\n",
       "    <tr>\n",
       "      <th>120862</th>\n",
       "      <td>2023-03-15 23:15:00</td>\n",
       "      <td>915.52</td>\n",
       "      <td>NaN</td>\n",
       "      <td>NaN</td>\n",
       "    </tr>\n",
       "    <tr>\n",
       "      <th>120863</th>\n",
       "      <td>2023-03-15 23:30:00</td>\n",
       "      <td>861.92</td>\n",
       "      <td>NaN</td>\n",
       "      <td>NaN</td>\n",
       "    </tr>\n",
       "    <tr>\n",
       "      <th>120864</th>\n",
       "      <td>2023-03-15 23:45:00</td>\n",
       "      <td>1064.32</td>\n",
       "      <td>NaN</td>\n",
       "      <td>NaN</td>\n",
       "    </tr>\n",
       "    <tr>\n",
       "      <th>120865</th>\n",
       "      <td>2023-03-16 00:00:00</td>\n",
       "      <td>1125.92</td>\n",
       "      <td>NaN</td>\n",
       "      <td>NaN</td>\n",
       "    </tr>\n",
       "  </tbody>\n",
       "</table>\n",
       "<p>120866 rows × 4 columns</p>\n",
       "</div>"
      ],
      "text/plain": [
       "                 SourceName Hackaton_Werkeingang_Ampfing  \\\n",
       "0                    DPName   DE_Ampfing_Suetag_ELEG_FOR   \n",
       "1        Actual Source name   DE_Ampfing_Suetag_ELEG_FOR   \n",
       "2                  Location             DE_Ampfing Sütag   \n",
       "3               Description    Active energy plant input   \n",
       "4                      Unit                           kW   \n",
       "...                     ...                          ...   \n",
       "120861  2023-03-15 23:00:00                       812.64   \n",
       "120862  2023-03-15 23:15:00                       915.52   \n",
       "120863  2023-03-15 23:30:00                       861.92   \n",
       "120864  2023-03-15 23:45:00                      1064.32   \n",
       "120865  2023-03-16 00:00:00                      1125.92   \n",
       "\n",
       "                        Unnamed: 2                      Unnamed: 3  \n",
       "0       DE_Ampfing_Suetag_WAEF_FOR      DE_Ampfing_Suetag_WASG_FOR  \n",
       "1       DE_Ampfing_Suetag_WAEF_FOR      DE_Ampfing_Suetag_WASG_FOR  \n",
       "2                 DE_Ampfing Sütag                DE_Ampfing Sütag  \n",
       "3       Total external heat energy  Water supply at plant entrance  \n",
       "4                               kW                            m3/h  \n",
       "...                            ...                             ...  \n",
       "120861                         NaN                             NaN  \n",
       "120862                         NaN                             NaN  \n",
       "120863                         NaN                             NaN  \n",
       "120864                         NaN                             NaN  \n",
       "120865                         NaN                             NaN  \n",
       "\n",
       "[120866 rows x 4 columns]"
      ]
     },
     "execution_count": 35,
     "metadata": {},
     "output_type": "execute_result"
    }
   ],
   "source": [
    "df"
   ]
  },
  {
   "cell_type": "code",
   "execution_count": 36,
   "metadata": {},
   "outputs": [
    {
     "name": "stdout",
     "output_type": "stream",
     "text": [
      "                 SourceName Hackaton_Werkeingang_Feldhof  \\\n",
      "0                    DPName     CH_Daellikon_EB_ELEG_FOR   \n",
      "1        Actual Source name     CH_Daellikon_EB_ELEG_FOR   \n",
      "2                  Location          CH_Dällikon Feldhof   \n",
      "3               Description    Active energy plant input   \n",
      "4                      Unit                           kW   \n",
      "...                     ...                          ...   \n",
      "154037  2023-03-16 01:45:00                          NaN   \n",
      "154038  2023-03-16 02:00:00                          NaN   \n",
      "154039  2023-03-16 02:15:00                          NaN   \n",
      "154040  2023-03-16 02:30:00                          NaN   \n",
      "154041  2023-03-16 02:45:00                          NaN   \n",
      "\n",
      "                      Unnamed: 2                  Unnamed: 3  \\\n",
      "0       CH_Daellikon_EB_WAEA_FOR    CH_Daellikon_EB_WAEF_FOR   \n",
      "1       CH_Daellikon_EB_WAEA_FOR    CH_Daellikon_EB_WAEF_FOR   \n",
      "2            CH_Dällikon Feldhof         CH_Dällikon Feldhof   \n",
      "3        Total waste heat energy  Total external heat energy   \n",
      "4                             kW                          kW   \n",
      "...                          ...                         ...   \n",
      "154037                         0                   43.889012   \n",
      "154038                         0                   99.889012   \n",
      "154039                         0                   76.110988   \n",
      "154040                         0                 -223.711432   \n",
      "154041                         0                 -100.288568   \n",
      "\n",
      "                            Unnamed: 4  \n",
      "0             CH_Daellikon_EB_WASG_FOR  \n",
      "1             CH_Daellikon_EB_WASG_FOR  \n",
      "2                  CH_Dällikon Feldhof  \n",
      "3       Water supply at plant entrance  \n",
      "4                                 m3/h  \n",
      "...                                ...  \n",
      "154037                       23.825526  \n",
      "154038                             NaN  \n",
      "154039                             NaN  \n",
      "154040                             NaN  \n",
      "154041                             NaN  \n",
      "\n",
      "[154042 rows x 5 columns]\n"
     ]
    }
   ],
   "source": [
    "input_file = 'energy_Feldhof.xlsx'\n",
    "output_file = 'energy_Feldhof.csv'\n",
    "\n",
    "# Load the Excel file into a Pandas dataframe\n",
    "df2 = pd.read_excel(input_file)\n",
    "# Write the dataframe to a CSV file\n",
    "df2.to_csv(output_file, index=False)\n",
    "\n",
    "print(df2)"
   ]
  },
  {
   "cell_type": "code",
   "execution_count": 37,
   "metadata": {},
   "outputs": [
    {
     "name": "stdout",
     "output_type": "stream",
     "text": [
      "                SourceName  Hackaton_Werkeingang_Orbe  \\\n",
      "0                   DPName           CH_Orbe_ELEG_FOR   \n",
      "1       Actual Source name           CH_Orbe_ELEG_FOR   \n",
      "2                 Location                    CH_Orbe   \n",
      "3              Description  Active energy plant input   \n",
      "4                     Unit                         kW   \n",
      "...                    ...                        ...   \n",
      "94768  2023-03-20 02:00:00                        NaN   \n",
      "94769  2023-03-20 02:15:00                        NaN   \n",
      "94770  2023-03-20 02:30:00                        NaN   \n",
      "94771  2023-03-20 02:45:00                        NaN   \n",
      "94772  2023-03-20 03:00:00                        NaN   \n",
      "\n",
      "                       Unnamed: 2                      Unnamed: 3  \n",
      "0                CH_Orbe_WAEF_FOR                CH_Orbe_WASG_FOR  \n",
      "1                CH_Orbe_WAEF_FOR                CH_Orbe_WASG_FOR  \n",
      "2                         CH_Orbe                         CH_Orbe  \n",
      "3      Total external heat energy  Water supply at plant entrance  \n",
      "4                              kW                            m3/h  \n",
      "...                           ...                             ...  \n",
      "94768                           0                        0.004444  \n",
      "94769                           0                               0  \n",
      "94770                           0                        3.995556  \n",
      "94771                           0                        0.004444  \n",
      "94772                           0                               0  \n",
      "\n",
      "[94773 rows x 4 columns]\n"
     ]
    }
   ],
   "source": [
    "input_file = 'energy_Orbe.xlsx'\n",
    "output_file = 'energy_Orbe.csv'\n",
    "\n",
    "# Load the Excel file into a Pandas dataframe\n",
    "df3 = pd.read_excel(input_file)\n",
    "# Write the dataframe to a CSV file\n",
    "df3.to_csv(output_file, index=False)\n",
    "\n",
    "print(df3)"
   ]
  },
  {
   "cell_type": "code",
   "execution_count": 38,
   "metadata": {},
   "outputs": [
    {
     "name": "stdout",
     "output_type": "stream",
     "text": [
      "                 SourceName Hackaton_Werkeingang_Schiltach  \\\n",
      "0                    DPName          DE_Schiltach_ELEG_FOR   \n",
      "1        Actual Source name          DE_Schiltach_ELEG_FOR   \n",
      "2                  Location                   DE_Schiltach   \n",
      "3               Description      Active energy plant input   \n",
      "4                      Unit                             kW   \n",
      "...                     ...                            ...   \n",
      "199341  2023-03-20 01:45:00                     320.000806   \n",
      "199342  2023-03-20 02:00:00                     304.833792   \n",
      "199343  2023-03-20 02:15:00                     329.944016   \n",
      "199344  2023-03-20 02:30:00                     292.483569   \n",
      "199345  2023-03-20 02:45:00                     290.404458   \n",
      "\n",
      "                        Unnamed: 2                      Unnamed: 3  \n",
      "0            DE_Schiltach_WAEF_FOR           DE_Schiltach_WASG_FOR  \n",
      "1            DE_Schiltach_WAEF_FOR           DE_Schiltach_WASG_FOR  \n",
      "2                     DE_Schiltach                    DE_Schiltach  \n",
      "3       Total external heat energy  Water supply at plant entrance  \n",
      "4                               kW                            m3/h  \n",
      "...                            ...                             ...  \n",
      "199341                  225.506682                        0.024071  \n",
      "199342                         225                        0.039858  \n",
      "199343                       269.5                        0.087573  \n",
      "199344                         270                        0.028533  \n",
      "199345                       314.5                           0.028  \n",
      "\n",
      "[199346 rows x 4 columns]\n"
     ]
    }
   ],
   "source": [
    "input_file = 'energy_Schiltach.xlsx'\n",
    "output_file = 'energy_Schiltach.csv'\n",
    "\n",
    "# Load the Excel file into a Pandas dataframe\n",
    "df4 = pd.read_excel(input_file)\n",
    "# Write the dataframe to a CSV file\n",
    "df4.to_csv(output_file, index=False)\n",
    "\n",
    "print(df4)"
   ]
  },
  {
   "cell_type": "code",
   "execution_count": 39,
   "metadata": {},
   "outputs": [
    {
     "name": "stdout",
     "output_type": "stream",
     "text": [
      "                 SourceName   Hackaton_Werkeingang_Zell  \\\n",
      "0                    DPName  CH_Zell_Gefluegel_ELEG_FOR   \n",
      "1        Actual Source name  CH_Zell_Gefluegel_ELEG_FOR   \n",
      "2                  Location            CH_Zell Geflügel   \n",
      "3               Description   Active energy plant input   \n",
      "4                      Unit                          kW   \n",
      "...                     ...                         ...   \n",
      "180861  2023-03-15 23:00:00                         NaN   \n",
      "180862  2023-03-15 23:15:00                         NaN   \n",
      "180863  2023-03-15 23:30:00                         NaN   \n",
      "180864  2023-03-15 23:45:00                         NaN   \n",
      "180865  2023-03-16 00:00:00                         NaN   \n",
      "\n",
      "                        Unnamed: 2                       Unnamed: 3  \\\n",
      "0       CH_Zell_Gefluegel_WAEA_FOR       CH_Zell_Gefluegel_WAEF_FOR   \n",
      "1       CH_Zell_Gefluegel_WAEA_FOR  CH_Zell_Gefluegel_WAEF_FOR_TEST   \n",
      "2                 CH_Zell Geflügel                 CH_Zell Geflügel   \n",
      "3          Total waste heat energy       Total external heat energy   \n",
      "4                               kW                               kW   \n",
      "...                            ...                              ...   \n",
      "180861                         NaN                              NaN   \n",
      "180862                         NaN                              NaN   \n",
      "180863                         NaN                              NaN   \n",
      "180864                         NaN                              NaN   \n",
      "180865                         NaN                              NaN   \n",
      "\n",
      "                            Unnamed: 4  \n",
      "0           CH_Zell_Gefluegel_WASG_FOR  \n",
      "1           CH_Zell_Gefluegel_WASG_FOR  \n",
      "2                     CH_Zell Geflügel  \n",
      "3       Water supply at plant entrance  \n",
      "4                                 m3/h  \n",
      "...                                ...  \n",
      "180861                             NaN  \n",
      "180862                             NaN  \n",
      "180863                             NaN  \n",
      "180864                             NaN  \n",
      "180865                             NaN  \n",
      "\n",
      "[180866 rows x 5 columns]\n"
     ]
    }
   ],
   "source": [
    "input_file = 'energy_zell.xlsx'\n",
    "output_file = 'energy_zell.csv'\n",
    "\n",
    "# Load the Excel file into a Pandas dataframe\n",
    "df5 = pd.read_excel(input_file)\n",
    "# Write the dataframe to a CSV file\n",
    "df5.to_csv(output_file, index=False)\n",
    "\n",
    "print(df5)"
   ]
  },
  {
   "cell_type": "code",
   "execution_count": null,
   "metadata": {},
   "outputs": [],
   "source": []
  },
  {
   "cell_type": "code",
   "execution_count": 40,
   "metadata": {},
   "outputs": [
    {
     "name": "stderr",
     "output_type": "stream",
     "text": [
      "C:\\Users\\marcb\\AppData\\Local\\Temp\\ipykernel_8876\\614355082.py:1: DtypeWarning: Columns (1,2,3,4) have mixed types. Specify dtype option on import or set low_memory=False.\n",
      "  df5 = pd.read_csv('energy_zell.csv')\n"
     ]
    }
   ],
   "source": [
    "df5 = pd.read_csv('energy_zell.csv')\n"
   ]
  },
  {
   "cell_type": "code",
   "execution_count": 41,
   "metadata": {},
   "outputs": [
    {
     "ename": "KeyError",
     "evalue": "'ts'",
     "output_type": "error",
     "traceback": [
      "\u001b[1;31m---------------------------------------------------------------------------\u001b[0m",
      "\u001b[1;31mKeyError\u001b[0m                                  Traceback (most recent call last)",
      "File \u001b[1;32m~\\AppData\\Local\\Packages\\PythonSoftwareFoundation.Python.3.10_qbz5n2kfra8p0\\LocalCache\\local-packages\\Python310\\site-packages\\pandas\\core\\indexes\\base.py:3621\u001b[0m, in \u001b[0;36mIndex.get_loc\u001b[1;34m(self, key, method, tolerance)\u001b[0m\n\u001b[0;32m   3620\u001b[0m \u001b[39mtry\u001b[39;00m:\n\u001b[1;32m-> 3621\u001b[0m     \u001b[39mreturn\u001b[39;00m \u001b[39mself\u001b[39;49m\u001b[39m.\u001b[39;49m_engine\u001b[39m.\u001b[39;49mget_loc(casted_key)\n\u001b[0;32m   3622\u001b[0m \u001b[39mexcept\u001b[39;00m \u001b[39mKeyError\u001b[39;00m \u001b[39mas\u001b[39;00m err:\n",
      "File \u001b[1;32m~\\AppData\\Local\\Packages\\PythonSoftwareFoundation.Python.3.10_qbz5n2kfra8p0\\LocalCache\\local-packages\\Python310\\site-packages\\pandas\\_libs\\index.pyx:136\u001b[0m, in \u001b[0;36mpandas._libs.index.IndexEngine.get_loc\u001b[1;34m()\u001b[0m\n",
      "File \u001b[1;32m~\\AppData\\Local\\Packages\\PythonSoftwareFoundation.Python.3.10_qbz5n2kfra8p0\\LocalCache\\local-packages\\Python310\\site-packages\\pandas\\_libs\\index.pyx:163\u001b[0m, in \u001b[0;36mpandas._libs.index.IndexEngine.get_loc\u001b[1;34m()\u001b[0m\n",
      "File \u001b[1;32mpandas\\_libs\\hashtable_class_helper.pxi:5198\u001b[0m, in \u001b[0;36mpandas._libs.hashtable.PyObjectHashTable.get_item\u001b[1;34m()\u001b[0m\n",
      "File \u001b[1;32mpandas\\_libs\\hashtable_class_helper.pxi:5206\u001b[0m, in \u001b[0;36mpandas._libs.hashtable.PyObjectHashTable.get_item\u001b[1;34m()\u001b[0m\n",
      "\u001b[1;31mKeyError\u001b[0m: 'ts'",
      "\nThe above exception was the direct cause of the following exception:\n",
      "\u001b[1;31mKeyError\u001b[0m                                  Traceback (most recent call last)",
      "\u001b[1;32mc:\\Users\\marcb\\OneDrive - bwedu\\Desktop\\Hack23\\BellFoodGroup_STARTHACK23\\data.Ipynb Cell 12\u001b[0m in \u001b[0;36m<cell line: 2>\u001b[1;34m()\u001b[0m\n\u001b[0;32m      <a href='vscode-notebook-cell:/c%3A/Users/marcb/OneDrive%20-%20bwedu/Desktop/Hack23/BellFoodGroup_STARTHACK23/data.Ipynb#X22sZmlsZQ%3D%3D?line=0'>1</a>\u001b[0m \u001b[39m#df5['ts'] = pd.to_datetime(df5.ts, unit='ms')\u001b[39;00m\n\u001b[1;32m----> <a href='vscode-notebook-cell:/c%3A/Users/marcb/OneDrive%20-%20bwedu/Desktop/Hack23/BellFoodGroup_STARTHACK23/data.Ipynb#X22sZmlsZQ%3D%3D?line=1'>2</a>\u001b[0m df5 \u001b[39m=\u001b[39m df5\u001b[39m.\u001b[39mset_index(pd\u001b[39m.\u001b[39mto_datetime(df5[\u001b[39m'\u001b[39;49m\u001b[39mts\u001b[39;49m\u001b[39m'\u001b[39;49m]))\n\u001b[0;32m      <a href='vscode-notebook-cell:/c%3A/Users/marcb/OneDrive%20-%20bwedu/Desktop/Hack23/BellFoodGroup_STARTHACK23/data.Ipynb#X22sZmlsZQ%3D%3D?line=2'>3</a>\u001b[0m df5 \u001b[39m=\u001b[39m df5\u001b[39m.\u001b[39mresample(\u001b[39m'\u001b[39m\u001b[39m15T\u001b[39m\u001b[39m'\u001b[39m)\u001b[39m.\u001b[39mmean()\n",
      "File \u001b[1;32m~\\AppData\\Local\\Packages\\PythonSoftwareFoundation.Python.3.10_qbz5n2kfra8p0\\LocalCache\\local-packages\\Python310\\site-packages\\pandas\\core\\frame.py:3505\u001b[0m, in \u001b[0;36mDataFrame.__getitem__\u001b[1;34m(self, key)\u001b[0m\n\u001b[0;32m   3503\u001b[0m \u001b[39mif\u001b[39;00m \u001b[39mself\u001b[39m\u001b[39m.\u001b[39mcolumns\u001b[39m.\u001b[39mnlevels \u001b[39m>\u001b[39m \u001b[39m1\u001b[39m:\n\u001b[0;32m   3504\u001b[0m     \u001b[39mreturn\u001b[39;00m \u001b[39mself\u001b[39m\u001b[39m.\u001b[39m_getitem_multilevel(key)\n\u001b[1;32m-> 3505\u001b[0m indexer \u001b[39m=\u001b[39m \u001b[39mself\u001b[39;49m\u001b[39m.\u001b[39;49mcolumns\u001b[39m.\u001b[39;49mget_loc(key)\n\u001b[0;32m   3506\u001b[0m \u001b[39mif\u001b[39;00m is_integer(indexer):\n\u001b[0;32m   3507\u001b[0m     indexer \u001b[39m=\u001b[39m [indexer]\n",
      "File \u001b[1;32m~\\AppData\\Local\\Packages\\PythonSoftwareFoundation.Python.3.10_qbz5n2kfra8p0\\LocalCache\\local-packages\\Python310\\site-packages\\pandas\\core\\indexes\\base.py:3623\u001b[0m, in \u001b[0;36mIndex.get_loc\u001b[1;34m(self, key, method, tolerance)\u001b[0m\n\u001b[0;32m   3621\u001b[0m     \u001b[39mreturn\u001b[39;00m \u001b[39mself\u001b[39m\u001b[39m.\u001b[39m_engine\u001b[39m.\u001b[39mget_loc(casted_key)\n\u001b[0;32m   3622\u001b[0m \u001b[39mexcept\u001b[39;00m \u001b[39mKeyError\u001b[39;00m \u001b[39mas\u001b[39;00m err:\n\u001b[1;32m-> 3623\u001b[0m     \u001b[39mraise\u001b[39;00m \u001b[39mKeyError\u001b[39;00m(key) \u001b[39mfrom\u001b[39;00m \u001b[39merr\u001b[39;00m\n\u001b[0;32m   3624\u001b[0m \u001b[39mexcept\u001b[39;00m \u001b[39mTypeError\u001b[39;00m:\n\u001b[0;32m   3625\u001b[0m     \u001b[39m# If we have a listlike key, _check_indexing_error will raise\u001b[39;00m\n\u001b[0;32m   3626\u001b[0m     \u001b[39m#  InvalidIndexError. Otherwise we fall through and re-raise\u001b[39;00m\n\u001b[0;32m   3627\u001b[0m     \u001b[39m#  the TypeError.\u001b[39;00m\n\u001b[0;32m   3628\u001b[0m     \u001b[39mself\u001b[39m\u001b[39m.\u001b[39m_check_indexing_error(key)\n",
      "\u001b[1;31mKeyError\u001b[0m: 'ts'"
     ]
    }
   ],
   "source": [
    "#df5['ts'] = pd.to_datetime(df5.ts, unit='ms')\n",
    "df5 = df5.set_index(pd.to_datetime(df5['ts']))\n",
    "df5 = df5.resample('15T').mean()"
   ]
  },
  {
   "cell_type": "code",
   "execution_count": null,
   "metadata": {},
   "outputs": [],
   "source": []
  },
  {
   "cell_type": "code",
   "execution_count": null,
   "metadata": {},
   "outputs": [
    {
     "data": {
      "text/html": [
       "<div>\n",
       "<style scoped>\n",
       "    .dataframe tbody tr th:only-of-type {\n",
       "        vertical-align: middle;\n",
       "    }\n",
       "\n",
       "    .dataframe tbody tr th {\n",
       "        vertical-align: top;\n",
       "    }\n",
       "\n",
       "    .dataframe thead th {\n",
       "        text-align: right;\n",
       "    }\n",
       "</style>\n",
       "<table border=\"1\" class=\"dataframe\">\n",
       "  <thead>\n",
       "    <tr style=\"text-align: right;\">\n",
       "      <th></th>\n",
       "      <th>Active energy plant input</th>\n",
       "      <th>Total waste heat energy</th>\n",
       "      <th>Total external heat energy</th>\n",
       "      <th>Water supply at plant entrance</th>\n",
       "    </tr>\n",
       "    <tr>\n",
       "      <th>ts</th>\n",
       "      <th></th>\n",
       "      <th></th>\n",
       "      <th></th>\n",
       "      <th></th>\n",
       "    </tr>\n",
       "  </thead>\n",
       "  <tbody>\n",
       "    <tr>\n",
       "      <th>2018-01-01 00:00:00</th>\n",
       "      <td>892.0</td>\n",
       "      <td>NaN</td>\n",
       "      <td>NaN</td>\n",
       "      <td>NaN</td>\n",
       "    </tr>\n",
       "    <tr>\n",
       "      <th>2018-01-01 00:15:00</th>\n",
       "      <td>892.0</td>\n",
       "      <td>NaN</td>\n",
       "      <td>NaN</td>\n",
       "      <td>NaN</td>\n",
       "    </tr>\n",
       "    <tr>\n",
       "      <th>2018-01-01 00:30:00</th>\n",
       "      <td>840.0</td>\n",
       "      <td>NaN</td>\n",
       "      <td>NaN</td>\n",
       "      <td>NaN</td>\n",
       "    </tr>\n",
       "    <tr>\n",
       "      <th>2018-01-01 00:45:00</th>\n",
       "      <td>720.0</td>\n",
       "      <td>NaN</td>\n",
       "      <td>NaN</td>\n",
       "      <td>NaN</td>\n",
       "    </tr>\n",
       "    <tr>\n",
       "      <th>2018-01-01 01:00:00</th>\n",
       "      <td>756.0</td>\n",
       "      <td>NaN</td>\n",
       "      <td>NaN</td>\n",
       "      <td>NaN</td>\n",
       "    </tr>\n",
       "  </tbody>\n",
       "</table>\n",
       "</div>"
      ],
      "text/plain": [
       "                     Active energy plant input  Total waste heat energy  \\\n",
       "ts                                                                        \n",
       "2018-01-01 00:00:00                      892.0                      NaN   \n",
       "2018-01-01 00:15:00                      892.0                      NaN   \n",
       "2018-01-01 00:30:00                      840.0                      NaN   \n",
       "2018-01-01 00:45:00                      720.0                      NaN   \n",
       "2018-01-01 01:00:00                      756.0                      NaN   \n",
       "\n",
       "                     Total external heat energy  \\\n",
       "ts                                                \n",
       "2018-01-01 00:00:00                         NaN   \n",
       "2018-01-01 00:15:00                         NaN   \n",
       "2018-01-01 00:30:00                         NaN   \n",
       "2018-01-01 00:45:00                         NaN   \n",
       "2018-01-01 01:00:00                         NaN   \n",
       "\n",
       "                     Water supply at plant entrance  \n",
       "ts                                                   \n",
       "2018-01-01 00:00:00                             NaN  \n",
       "2018-01-01 00:15:00                             NaN  \n",
       "2018-01-01 00:30:00                             NaN  \n",
       "2018-01-01 00:45:00                             NaN  \n",
       "2018-01-01 01:00:00                             NaN  "
      ]
     },
     "execution_count": 27,
     "metadata": {},
     "output_type": "execute_result"
    }
   ],
   "source": [
    "df.head(5)"
   ]
  },
  {
   "cell_type": "code",
   "execution_count": null,
   "metadata": {},
   "outputs": [],
   "source": []
  },
  {
   "cell_type": "code",
   "execution_count": null,
   "metadata": {},
   "outputs": [
    {
     "data": {
      "text/plain": [
       "array([[<AxesSubplot:xlabel='ts'>, <AxesSubplot:xlabel='ts'>,\n",
       "        <AxesSubplot:xlabel='ts'>],\n",
       "       [<AxesSubplot:xlabel='ts'>, <AxesSubplot:xlabel='ts'>,\n",
       "        <AxesSubplot:xlabel='ts'>],\n",
       "       [<AxesSubplot:xlabel='ts'>, <AxesSubplot:xlabel='ts'>,\n",
       "        <AxesSubplot:xlabel='ts'>]], dtype=object)"
      ]
     },
     "execution_count": 28,
     "metadata": {},
     "output_type": "execute_result"
    },
    {
     "data": {
      "image/png": "[encoded data removed]",
      "text/plain": [
       "<Figure size 720x720 with 9 Axes>"
      ]
     },
     "metadata": {
      "needs_background": "light"
     },
     "output_type": "display_data"
    }
   ],
   "source": [
    "from matplotlib import pyplot as plt \n",
    "# Plot all numerical variables\n",
    "df5.plot(kind='line', subplots=True, layout=(3,3), figsize=(10,10))"
   ]
  },
  {
   "cell_type": "code",
   "execution_count": null,
   "metadata": {},
   "outputs": [
    {
     "data": {
      "image/png": "[encoded data removed]",
      "text/plain": [
       "<Figure size 432x288 with 1 Axes>"
      ]
     },
     "metadata": {
      "needs_background": "light"
     },
     "output_type": "display_data"
    }
   ],
   "source": [
    "plt.plot(df5)\n",
    "plt.show()"
   ]
  },
  {
   "cell_type": "code",
   "execution_count": null,
   "metadata": {},
   "outputs": [
    {
     "name": "stdout",
     "output_type": "stream",
     "text": [
      "                     Active energy plant input  Total waste heat energy  \\\n",
      "ts                                                                        \n",
      "2018-01-01 00:00:00                      892.0                      NaN   \n",
      "2018-01-01 00:15:00                      892.0                      NaN   \n",
      "2018-01-01 00:30:00                      840.0                      NaN   \n",
      "2018-01-01 00:45:00                      720.0                      NaN   \n",
      "2018-01-01 01:00:00                      756.0                      NaN   \n",
      "\n",
      "                     Total external heat energy  \\\n",
      "ts                                                \n",
      "2018-01-01 00:00:00                         NaN   \n",
      "2018-01-01 00:15:00                         NaN   \n",
      "2018-01-01 00:30:00                         NaN   \n",
      "2018-01-01 00:45:00                         NaN   \n",
      "2018-01-01 01:00:00                         NaN   \n",
      "\n",
      "                     Water supply at plant entrance  \n",
      "ts                                                   \n",
      "2018-01-01 00:00:00                             NaN  \n",
      "2018-01-01 00:15:00                             NaN  \n",
      "2018-01-01 00:30:00                             NaN  \n",
      "2018-01-01 00:45:00                             NaN  \n",
      "2018-01-01 01:00:00                             NaN  \n"
     ]
    },
    {
     "ename": "KeyboardInterrupt",
     "evalue": "",
     "output_type": "error",
     "traceback": [
      "\u001b[1;31m---------------------------------------------------------------------------\u001b[0m",
      "\u001b[1;31mKeyboardInterrupt\u001b[0m                         Traceback (most recent call last)",
      "\u001b[1;32mc:\\Users\\marcb\\OneDrive - bwedu\\Desktop\\Hack23\\BellFoodGroup_STARTHACK23\\data.Ipynb Cell 18\u001b[0m in \u001b[0;36m<cell line: 10>\u001b[1;34m()\u001b[0m\n\u001b[0;32m      <a href='vscode-notebook-cell:/c%3A/Users/marcb/OneDrive%20-%20bwedu/Desktop/Hack23/BellFoodGroup_STARTHACK23/data.Ipynb#X26sZmlsZQ%3D%3D?line=7'>8</a>\u001b[0m df5\u001b[39m.\u001b[39mplot(kind\u001b[39m=\u001b[39m\u001b[39m'\u001b[39m\u001b[39mline\u001b[39m\u001b[39m'\u001b[39m, subplots\u001b[39m=\u001b[39m\u001b[39mTrue\u001b[39;00m, layout\u001b[39m=\u001b[39m(\u001b[39m3\u001b[39m,\u001b[39m3\u001b[39m), figsize\u001b[39m=\u001b[39m(\u001b[39m10\u001b[39m,\u001b[39m10\u001b[39m))\n\u001b[0;32m      <a href='vscode-notebook-cell:/c%3A/Users/marcb/OneDrive%20-%20bwedu/Desktop/Hack23/BellFoodGroup_STARTHACK23/data.Ipynb#X26sZmlsZQ%3D%3D?line=8'>9</a>\u001b[0m plt\u001b[39m.\u001b[39mplot(df5)\n\u001b[1;32m---> <a href='vscode-notebook-cell:/c%3A/Users/marcb/OneDrive%20-%20bwedu/Desktop/Hack23/BellFoodGroup_STARTHACK23/data.Ipynb#X26sZmlsZQ%3D%3D?line=9'>10</a>\u001b[0m plt\u001b[39m.\u001b[39;49mshow()\n",
      "File \u001b[1;32m~\\AppData\\Local\\Packages\\PythonSoftwareFoundation.Python.3.10_qbz5n2kfra8p0\\LocalCache\\local-packages\\Python310\\site-packages\\matplotlib\\pyplot.py:368\u001b[0m, in \u001b[0;36mshow\u001b[1;34m(*args, **kwargs)\u001b[0m\n\u001b[0;32m    324\u001b[0m \u001b[39m\"\"\"\u001b[39;00m\n\u001b[0;32m    325\u001b[0m \u001b[39mDisplay all open figures.\u001b[39;00m\n\u001b[0;32m    326\u001b[0m \n\u001b[1;32m   (...)\u001b[0m\n\u001b[0;32m    365\u001b[0m \u001b[39mexplicitly there.\u001b[39;00m\n\u001b[0;32m    366\u001b[0m \u001b[39m\"\"\"\u001b[39;00m\n\u001b[0;32m    367\u001b[0m _warn_if_gui_out_of_main_thread()\n\u001b[1;32m--> 368\u001b[0m \u001b[39mreturn\u001b[39;00m _backend_mod\u001b[39m.\u001b[39mshow(\u001b[39m*\u001b[39margs, \u001b[39m*\u001b[39m\u001b[39m*\u001b[39mkwargs)\n",
      "File \u001b[1;32m~\\AppData\\Local\\Packages\\PythonSoftwareFoundation.Python.3.10_qbz5n2kfra8p0\\LocalCache\\local-packages\\Python310\\site-packages\\matplotlib_inline\\backend_inline.py:41\u001b[0m, in \u001b[0;36mshow\u001b[1;34m(close, block)\u001b[0m\n\u001b[0;32m     39\u001b[0m \u001b[39mtry\u001b[39;00m:\n\u001b[0;32m     40\u001b[0m     \u001b[39mfor\u001b[39;00m figure_manager \u001b[39min\u001b[39;00m Gcf\u001b[39m.\u001b[39mget_all_fig_managers():\n\u001b[1;32m---> 41\u001b[0m         display(\n\u001b[0;32m     42\u001b[0m             figure_manager\u001b[39m.\u001b[39;49mcanvas\u001b[39m.\u001b[39;49mfigure,\n\u001b[0;32m     43\u001b[0m             metadata\u001b[39m=\u001b[39;49m_fetch_figure_metadata(figure_manager\u001b[39m.\u001b[39;49mcanvas\u001b[39m.\u001b[39;49mfigure)\n\u001b[0;32m     44\u001b[0m         )\n\u001b[0;32m     45\u001b[0m \u001b[39mfinally\u001b[39;00m:\n\u001b[0;32m     46\u001b[0m     show\u001b[39m.\u001b[39m_to_draw \u001b[39m=\u001b[39m []\n",
      "File \u001b[1;32m~\\AppData\\Local\\Packages\\PythonSoftwareFoundation.Python.3.10_qbz5n2kfra8p0\\LocalCache\\local-packages\\Python310\\site-packages\\IPython\\core\\display_functions.py:298\u001b[0m, in \u001b[0;36mdisplay\u001b[1;34m(include, exclude, metadata, transient, display_id, raw, clear, *objs, **kwargs)\u001b[0m\n\u001b[0;32m    296\u001b[0m     publish_display_data(data\u001b[39m=\u001b[39mobj, metadata\u001b[39m=\u001b[39mmetadata, \u001b[39m*\u001b[39m\u001b[39m*\u001b[39mkwargs)\n\u001b[0;32m    297\u001b[0m \u001b[39melse\u001b[39;00m:\n\u001b[1;32m--> 298\u001b[0m     format_dict, md_dict \u001b[39m=\u001b[39m \u001b[39mformat\u001b[39;49m(obj, include\u001b[39m=\u001b[39;49minclude, exclude\u001b[39m=\u001b[39;49mexclude)\n\u001b[0;32m    299\u001b[0m     \u001b[39mif\u001b[39;00m \u001b[39mnot\u001b[39;00m format_dict:\n\u001b[0;32m    300\u001b[0m         \u001b[39m# nothing to display (e.g. _ipython_display_ took over)\u001b[39;00m\n\u001b[0;32m    301\u001b[0m         \u001b[39mcontinue\u001b[39;00m\n",
      "File \u001b[1;32m~\\AppData\\Local\\Packages\\PythonSoftwareFoundation.Python.3.10_qbz5n2kfra8p0\\LocalCache\\local-packages\\Python310\\site-packages\\IPython\\core\\formatters.py:178\u001b[0m, in \u001b[0;36mDisplayFormatter.format\u001b[1;34m(self, obj, include, exclude)\u001b[0m\n\u001b[0;32m    176\u001b[0m md \u001b[39m=\u001b[39m \u001b[39mNone\u001b[39;00m\n\u001b[0;32m    177\u001b[0m \u001b[39mtry\u001b[39;00m:\n\u001b[1;32m--> 178\u001b[0m     data \u001b[39m=\u001b[39m formatter(obj)\n\u001b[0;32m    179\u001b[0m \u001b[39mexcept\u001b[39;00m:\n\u001b[0;32m    180\u001b[0m     \u001b[39m# FIXME: log the exception\u001b[39;00m\n\u001b[0;32m    181\u001b[0m     \u001b[39mraise\u001b[39;00m\n",
      "File \u001b[1;32m~\\AppData\\Local\\Packages\\PythonSoftwareFoundation.Python.3.10_qbz5n2kfra8p0\\LocalCache\\local-packages\\Python310\\site-packages\\decorator.py:232\u001b[0m, in \u001b[0;36mdecorate.<locals>.fun\u001b[1;34m(*args, **kw)\u001b[0m\n\u001b[0;32m    230\u001b[0m \u001b[39mif\u001b[39;00m \u001b[39mnot\u001b[39;00m kwsyntax:\n\u001b[0;32m    231\u001b[0m     args, kw \u001b[39m=\u001b[39m fix(args, kw, sig)\n\u001b[1;32m--> 232\u001b[0m \u001b[39mreturn\u001b[39;00m caller(func, \u001b[39m*\u001b[39m(extras \u001b[39m+\u001b[39m args), \u001b[39m*\u001b[39m\u001b[39m*\u001b[39mkw)\n",
      "File \u001b[1;32m~\\AppData\\Local\\Packages\\PythonSoftwareFoundation.Python.3.10_qbz5n2kfra8p0\\LocalCache\\local-packages\\Python310\\site-packages\\IPython\\core\\formatters.py:222\u001b[0m, in \u001b[0;36mcatch_format_error\u001b[1;34m(method, self, *args, **kwargs)\u001b[0m\n\u001b[0;32m    220\u001b[0m \u001b[39m\"\"\"show traceback on failed format call\"\"\"\u001b[39;00m\n\u001b[0;32m    221\u001b[0m \u001b[39mtry\u001b[39;00m:\n\u001b[1;32m--> 222\u001b[0m     r \u001b[39m=\u001b[39m method(\u001b[39mself\u001b[39m, \u001b[39m*\u001b[39margs, \u001b[39m*\u001b[39m\u001b[39m*\u001b[39mkwargs)\n\u001b[0;32m    223\u001b[0m \u001b[39mexcept\u001b[39;00m \u001b[39mNotImplementedError\u001b[39;00m:\n\u001b[0;32m    224\u001b[0m     \u001b[39m# don't warn on NotImplementedErrors\u001b[39;00m\n\u001b[0;32m    225\u001b[0m     \u001b[39mreturn\u001b[39;00m \u001b[39mself\u001b[39m\u001b[39m.\u001b[39m_check_return(\u001b[39mNone\u001b[39;00m, args[\u001b[39m0\u001b[39m])\n",
      "File \u001b[1;32m~\\AppData\\Local\\Packages\\PythonSoftwareFoundation.Python.3.10_qbz5n2kfra8p0\\LocalCache\\local-packages\\Python310\\site-packages\\IPython\\core\\formatters.py:339\u001b[0m, in \u001b[0;36mBaseFormatter.__call__\u001b[1;34m(self, obj)\u001b[0m\n\u001b[0;32m    337\u001b[0m     \u001b[39mpass\u001b[39;00m\n\u001b[0;32m    338\u001b[0m \u001b[39melse\u001b[39;00m:\n\u001b[1;32m--> 339\u001b[0m     \u001b[39mreturn\u001b[39;00m printer(obj)\n\u001b[0;32m    340\u001b[0m \u001b[39m# Finally look for special method names\u001b[39;00m\n\u001b[0;32m    341\u001b[0m method \u001b[39m=\u001b[39m get_real_method(obj, \u001b[39mself\u001b[39m\u001b[39m.\u001b[39mprint_method)\n",
      "File \u001b[1;32m~\\AppData\\Local\\Packages\\PythonSoftwareFoundation.Python.3.10_qbz5n2kfra8p0\\LocalCache\\local-packages\\Python310\\site-packages\\IPython\\core\\pylabtools.py:151\u001b[0m, in \u001b[0;36mprint_figure\u001b[1;34m(fig, fmt, bbox_inches, base64, **kwargs)\u001b[0m\n\u001b[0;32m    148\u001b[0m     \u001b[39mfrom\u001b[39;00m \u001b[39mmatplotlib\u001b[39;00m\u001b[39m.\u001b[39;00m\u001b[39mbackend_bases\u001b[39;00m \u001b[39mimport\u001b[39;00m FigureCanvasBase\n\u001b[0;32m    149\u001b[0m     FigureCanvasBase(fig)\n\u001b[1;32m--> 151\u001b[0m fig\u001b[39m.\u001b[39mcanvas\u001b[39m.\u001b[39mprint_figure(bytes_io, \u001b[39m*\u001b[39m\u001b[39m*\u001b[39mkw)\n\u001b[0;32m    152\u001b[0m data \u001b[39m=\u001b[39m bytes_io\u001b[39m.\u001b[39mgetvalue()\n\u001b[0;32m    153\u001b[0m \u001b[39mif\u001b[39;00m fmt \u001b[39m==\u001b[39m \u001b[39m'\u001b[39m\u001b[39msvg\u001b[39m\u001b[39m'\u001b[39m:\n",
      "File \u001b[1;32m~\\AppData\\Local\\Packages\\PythonSoftwareFoundation.Python.3.10_qbz5n2kfra8p0\\LocalCache\\local-packages\\Python310\\site-packages\\matplotlib\\backend_bases.py:2299\u001b[0m, in \u001b[0;36mFigureCanvasBase.print_figure\u001b[1;34m(self, filename, dpi, facecolor, edgecolor, orientation, format, bbox_inches, pad_inches, bbox_extra_artists, backend, **kwargs)\u001b[0m\n\u001b[0;32m   2297\u001b[0m \u001b[39mif\u001b[39;00m bbox_inches:\n\u001b[0;32m   2298\u001b[0m     \u001b[39mif\u001b[39;00m bbox_inches \u001b[39m==\u001b[39m \u001b[39m\"\u001b[39m\u001b[39mtight\u001b[39m\u001b[39m\"\u001b[39m:\n\u001b[1;32m-> 2299\u001b[0m         bbox_inches \u001b[39m=\u001b[39m \u001b[39mself\u001b[39;49m\u001b[39m.\u001b[39;49mfigure\u001b[39m.\u001b[39;49mget_tightbbox(\n\u001b[0;32m   2300\u001b[0m             renderer, bbox_extra_artists\u001b[39m=\u001b[39;49mbbox_extra_artists)\n\u001b[0;32m   2301\u001b[0m         \u001b[39mif\u001b[39;00m pad_inches \u001b[39mis\u001b[39;00m \u001b[39mNone\u001b[39;00m:\n\u001b[0;32m   2302\u001b[0m             pad_inches \u001b[39m=\u001b[39m rcParams[\u001b[39m'\u001b[39m\u001b[39msavefig.pad_inches\u001b[39m\u001b[39m'\u001b[39m]\n",
      "File \u001b[1;32m~\\AppData\\Local\\Packages\\PythonSoftwareFoundation.Python.3.10_qbz5n2kfra8p0\\LocalCache\\local-packages\\Python310\\site-packages\\matplotlib\\figure.py:1641\u001b[0m, in \u001b[0;36mFigureBase.get_tightbbox\u001b[1;34m(self, renderer, bbox_extra_artists)\u001b[0m\n\u001b[0;32m   1637\u001b[0m \u001b[39mif\u001b[39;00m ax\u001b[39m.\u001b[39mget_visible():\n\u001b[0;32m   1638\u001b[0m     \u001b[39m# some axes don't take the bbox_extra_artists kwarg so we\u001b[39;00m\n\u001b[0;32m   1639\u001b[0m     \u001b[39m# need this conditional....\u001b[39;00m\n\u001b[0;32m   1640\u001b[0m     \u001b[39mtry\u001b[39;00m:\n\u001b[1;32m-> 1641\u001b[0m         bbox \u001b[39m=\u001b[39m ax\u001b[39m.\u001b[39;49mget_tightbbox(\n\u001b[0;32m   1642\u001b[0m             renderer, bbox_extra_artists\u001b[39m=\u001b[39;49mbbox_extra_artists)\n\u001b[0;32m   1643\u001b[0m     \u001b[39mexcept\u001b[39;00m \u001b[39mTypeError\u001b[39;00m:\n\u001b[0;32m   1644\u001b[0m         bbox \u001b[39m=\u001b[39m ax\u001b[39m.\u001b[39mget_tightbbox(renderer)\n",
      "File \u001b[1;32m~\\AppData\\Local\\Packages\\PythonSoftwareFoundation.Python.3.10_qbz5n2kfra8p0\\LocalCache\\local-packages\\Python310\\site-packages\\matplotlib\\axes\\_base.py:4619\u001b[0m, in \u001b[0;36m_AxesBase.get_tightbbox\u001b[1;34m(self, renderer, call_axes_locator, bbox_extra_artists, for_layout_only)\u001b[0m\n\u001b[0;32m   4617\u001b[0m \u001b[39mif\u001b[39;00m \u001b[39mself\u001b[39m\u001b[39m.\u001b[39mxaxis\u001b[39m.\u001b[39mget_visible():\n\u001b[0;32m   4618\u001b[0m     \u001b[39mtry\u001b[39;00m:\n\u001b[1;32m-> 4619\u001b[0m         bb_xaxis \u001b[39m=\u001b[39m \u001b[39mself\u001b[39;49m\u001b[39m.\u001b[39;49mxaxis\u001b[39m.\u001b[39;49mget_tightbbox(\n\u001b[0;32m   4620\u001b[0m             renderer, for_layout_only\u001b[39m=\u001b[39;49mfor_layout_only)\n\u001b[0;32m   4621\u001b[0m     \u001b[39mexcept\u001b[39;00m \u001b[39mTypeError\u001b[39;00m:\n\u001b[0;32m   4622\u001b[0m         \u001b[39m# in case downstream library has redefined axis:\u001b[39;00m\n\u001b[0;32m   4623\u001b[0m         bb_xaxis \u001b[39m=\u001b[39m \u001b[39mself\u001b[39m\u001b[39m.\u001b[39mxaxis\u001b[39m.\u001b[39mget_tightbbox(renderer)\n",
      "File \u001b[1;32m~\\AppData\\Local\\Packages\\PythonSoftwareFoundation.Python.3.10_qbz5n2kfra8p0\\LocalCache\\local-packages\\Python310\\site-packages\\matplotlib\\axis.py:1103\u001b[0m, in \u001b[0;36mAxis.get_tightbbox\u001b[1;34m(self, renderer, for_layout_only)\u001b[0m\n\u001b[0;32m   1100\u001b[0m \u001b[39mif\u001b[39;00m \u001b[39mnot\u001b[39;00m \u001b[39mself\u001b[39m\u001b[39m.\u001b[39mget_visible():\n\u001b[0;32m   1101\u001b[0m     \u001b[39mreturn\u001b[39;00m\n\u001b[1;32m-> 1103\u001b[0m ticks_to_draw \u001b[39m=\u001b[39m \u001b[39mself\u001b[39;49m\u001b[39m.\u001b[39;49m_update_ticks()\n\u001b[0;32m   1105\u001b[0m \u001b[39mself\u001b[39m\u001b[39m.\u001b[39m_update_label_position(renderer)\n\u001b[0;32m   1107\u001b[0m \u001b[39m# go back to just this axis's tick labels\u001b[39;00m\n",
      "File \u001b[1;32m~\\AppData\\Local\\Packages\\PythonSoftwareFoundation.Python.3.10_qbz5n2kfra8p0\\LocalCache\\local-packages\\Python310\\site-packages\\matplotlib\\axis.py:1045\u001b[0m, in \u001b[0;36mAxis._update_ticks\u001b[1;34m(self)\u001b[0m\n\u001b[0;32m   1040\u001b[0m \u001b[39mdef\u001b[39;00m \u001b[39m_update_ticks\u001b[39m(\u001b[39mself\u001b[39m):\n\u001b[0;32m   1041\u001b[0m     \u001b[39m\"\"\"\u001b[39;00m\n\u001b[0;32m   1042\u001b[0m \u001b[39m    Update ticks (position and labels) using the current data interval of\u001b[39;00m\n\u001b[0;32m   1043\u001b[0m \u001b[39m    the axes.  Return the list of ticks that will be drawn.\u001b[39;00m\n\u001b[0;32m   1044\u001b[0m \u001b[39m    \"\"\"\u001b[39;00m\n\u001b[1;32m-> 1045\u001b[0m     major_locs \u001b[39m=\u001b[39m \u001b[39mself\u001b[39;49m\u001b[39m.\u001b[39;49mget_majorticklocs()\n\u001b[0;32m   1046\u001b[0m     major_labels \u001b[39m=\u001b[39m \u001b[39mself\u001b[39m\u001b[39m.\u001b[39mmajor\u001b[39m.\u001b[39mformatter\u001b[39m.\u001b[39mformat_ticks(major_locs)\n\u001b[0;32m   1047\u001b[0m     major_ticks \u001b[39m=\u001b[39m \u001b[39mself\u001b[39m\u001b[39m.\u001b[39mget_major_ticks(\u001b[39mlen\u001b[39m(major_locs))\n",
      "File \u001b[1;32m~\\AppData\\Local\\Packages\\PythonSoftwareFoundation.Python.3.10_qbz5n2kfra8p0\\LocalCache\\local-packages\\Python310\\site-packages\\matplotlib\\axis.py:1277\u001b[0m, in \u001b[0;36mAxis.get_majorticklocs\u001b[1;34m(self)\u001b[0m\n\u001b[0;32m   1275\u001b[0m \u001b[39mdef\u001b[39;00m \u001b[39mget_majorticklocs\u001b[39m(\u001b[39mself\u001b[39m):\n\u001b[0;32m   1276\u001b[0m     \u001b[39m\"\"\"Return this Axis' major tick locations in data coordinates.\"\"\"\u001b[39;00m\n\u001b[1;32m-> 1277\u001b[0m     \u001b[39mreturn\u001b[39;00m \u001b[39mself\u001b[39;49m\u001b[39m.\u001b[39;49mmajor\u001b[39m.\u001b[39;49mlocator()\n",
      "File \u001b[1;32m~\\AppData\\Local\\Packages\\PythonSoftwareFoundation.Python.3.10_qbz5n2kfra8p0\\LocalCache\\local-packages\\Python310\\site-packages\\pandas\\plotting\\_matplotlib\\converter.py:976\u001b[0m, in \u001b[0;36mTimeSeries_DateLocator.__call__\u001b[1;34m(self)\u001b[0m\n\u001b[0;32m    974\u001b[0m     vmin, vmax \u001b[39m=\u001b[39m vmax, vmin\n\u001b[0;32m    975\u001b[0m \u001b[39mif\u001b[39;00m \u001b[39mself\u001b[39m\u001b[39m.\u001b[39misdynamic:\n\u001b[1;32m--> 976\u001b[0m     locs \u001b[39m=\u001b[39m \u001b[39mself\u001b[39;49m\u001b[39m.\u001b[39;49m_get_default_locs(vmin, vmax)\n\u001b[0;32m    977\u001b[0m \u001b[39melse\u001b[39;00m:  \u001b[39m# pragma: no cover\u001b[39;00m\n\u001b[0;32m    978\u001b[0m     base \u001b[39m=\u001b[39m \u001b[39mself\u001b[39m\u001b[39m.\u001b[39mbase\n",
      "File \u001b[1;32m~\\AppData\\Local\\Packages\\PythonSoftwareFoundation.Python.3.10_qbz5n2kfra8p0\\LocalCache\\local-packages\\Python310\\site-packages\\pandas\\plotting\\_matplotlib\\converter.py:962\u001b[0m, in \u001b[0;36mTimeSeries_DateLocator._get_default_locs\u001b[1;34m(self, vmin, vmax)\u001b[0m\n\u001b[0;32m    960\u001b[0m \u001b[39mif\u001b[39;00m \u001b[39mself\u001b[39m\u001b[39m.\u001b[39misminor:\n\u001b[0;32m    961\u001b[0m     \u001b[39mreturn\u001b[39;00m np\u001b[39m.\u001b[39mcompress(locator[\u001b[39m\"\u001b[39m\u001b[39mmin\u001b[39m\u001b[39m\"\u001b[39m], locator[\u001b[39m\"\u001b[39m\u001b[39mval\u001b[39m\u001b[39m\"\u001b[39m])\n\u001b[1;32m--> 962\u001b[0m \u001b[39mreturn\u001b[39;00m np\u001b[39m.\u001b[39;49mcompress(locator[\u001b[39m\"\u001b[39;49m\u001b[39mmaj\u001b[39;49m\u001b[39m\"\u001b[39;49m], locator[\u001b[39m\"\u001b[39;49m\u001b[39mval\u001b[39;49m\u001b[39m\"\u001b[39;49m])\n",
      "File \u001b[1;32m<__array_function__ internals>:180\u001b[0m, in \u001b[0;36mcompress\u001b[1;34m(*args, **kwargs)\u001b[0m\n",
      "File \u001b[1;32m~\\AppData\\Local\\Packages\\PythonSoftwareFoundation.Python.3.10_qbz5n2kfra8p0\\LocalCache\\local-packages\\Python310\\site-packages\\numpy\\core\\fromnumeric.py:2076\u001b[0m, in \u001b[0;36mcompress\u001b[1;34m(condition, a, axis, out)\u001b[0m\n\u001b[0;32m   2015\u001b[0m \u001b[39m@array_function_dispatch\u001b[39m(_compress_dispatcher)\n\u001b[0;32m   2016\u001b[0m \u001b[39mdef\u001b[39;00m \u001b[39mcompress\u001b[39m(condition, a, axis\u001b[39m=\u001b[39m\u001b[39mNone\u001b[39;00m, out\u001b[39m=\u001b[39m\u001b[39mNone\u001b[39;00m):\n\u001b[0;32m   2017\u001b[0m     \u001b[39m\"\"\"\u001b[39;00m\n\u001b[0;32m   2018\u001b[0m \u001b[39m    Return selected slices of an array along given axis.\u001b[39;00m\n\u001b[0;32m   2019\u001b[0m \n\u001b[1;32m   (...)\u001b[0m\n\u001b[0;32m   2074\u001b[0m \n\u001b[0;32m   2075\u001b[0m \u001b[39m    \"\"\"\u001b[39;00m\n\u001b[1;32m-> 2076\u001b[0m     \u001b[39mreturn\u001b[39;00m _wrapfunc(a, \u001b[39m'\u001b[39;49m\u001b[39mcompress\u001b[39;49m\u001b[39m'\u001b[39;49m, condition, axis\u001b[39m=\u001b[39;49maxis, out\u001b[39m=\u001b[39;49mout)\n",
      "File \u001b[1;32m~\\AppData\\Local\\Packages\\PythonSoftwareFoundation.Python.3.10_qbz5n2kfra8p0\\LocalCache\\local-packages\\Python310\\site-packages\\numpy\\core\\fromnumeric.py:57\u001b[0m, in \u001b[0;36m_wrapfunc\u001b[1;34m(obj, method, *args, **kwds)\u001b[0m\n\u001b[0;32m     54\u001b[0m     \u001b[39mreturn\u001b[39;00m _wrapit(obj, method, \u001b[39m*\u001b[39margs, \u001b[39m*\u001b[39m\u001b[39m*\u001b[39mkwds)\n\u001b[0;32m     56\u001b[0m \u001b[39mtry\u001b[39;00m:\n\u001b[1;32m---> 57\u001b[0m     \u001b[39mreturn\u001b[39;00m bound(\u001b[39m*\u001b[39margs, \u001b[39m*\u001b[39m\u001b[39m*\u001b[39mkwds)\n\u001b[0;32m     58\u001b[0m \u001b[39mexcept\u001b[39;00m \u001b[39mTypeError\u001b[39;00m:\n\u001b[0;32m     59\u001b[0m     \u001b[39m# A TypeError occurs if the object does have such a method in its\u001b[39;00m\n\u001b[0;32m     60\u001b[0m     \u001b[39m# class, but its signature is not identical to that of NumPy's. This\u001b[39;00m\n\u001b[1;32m   (...)\u001b[0m\n\u001b[0;32m     64\u001b[0m     \u001b[39m# Call _wrapit from within the except clause to ensure a potential\u001b[39;00m\n\u001b[0;32m     65\u001b[0m     \u001b[39m# exception has a traceback chain.\u001b[39;00m\n\u001b[0;32m     66\u001b[0m     \u001b[39mreturn\u001b[39;00m _wrapit(obj, method, \u001b[39m*\u001b[39margs, \u001b[39m*\u001b[39m\u001b[39m*\u001b[39mkwds)\n",
      "\u001b[1;31mKeyboardInterrupt\u001b[0m: "
     ]
    }
   ],
   "source": [
    "df5 = pd.read_csv('energy_zell.csv')\n",
    "#df5['ts'] = pd.to_datetime(df5.ts, unit='ms')\n",
    "df5 = df5.set_index(pd.to_datetime(df5['ts']))\n",
    "df5 = df5.resample('15T').mean()\n"
   ]
  },
  {
   "cell_type": "code",
   "execution_count": null,
   "metadata": {},
   "outputs": [],
   "source": [
    "df5.head(5)"
   ]
  },
  {
   "cell_type": "code",
   "execution_count": null,
   "metadata": {},
   "outputs": [],
   "source": [
    "from matplotlib import pyplot as plt \n",
    "# Plot all numerical variables\n",
    "df5.plot(kind='line', subplots=True, layout=(3,3), figsize=(10,10))\n",
    "plt.plot(df5)\n",
    "plt.show()"
   ]
  }
 ],
 "metadata": {
  "kernelspec": {
   "display_name": "aci2021",
   "language": "python",
   "name": "python3"
  },
  "language_info": {
   "codemirror_mode": {
    "name": "ipython",
    "version": 3
   },
   "file_extension": ".py",
   "mimetype": "text/x-python",
   "name": "python",
   "nbconvert_exporter": "python",
   "pygments_lexer": "ipython3",
   "version": "3.10.10"
  },
  "orig_nbformat": 4
 },
 "nbformat": 4,
 "nbformat_minor": 2
}
