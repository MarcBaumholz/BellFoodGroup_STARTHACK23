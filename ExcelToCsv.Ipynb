{
 "cells": [
  {
   "cell_type": "code",
   "execution_count": 31,
   "metadata": {},
   "outputs": [
    {
     "name": "stdout",
     "output_type": "stream",
     "text": [
      "Requirement already satisfied: openpyxl in c:\\users\\marcb\\appdata\\local\\packages\\pythonsoftwarefoundation.python.3.10_qbz5n2kfra8p0\\localcache\\local-packages\\python310\\site-packages (3.1.2)\n",
      "Requirement already satisfied: et-xmlfile in c:\\users\\marcb\\appdata\\local\\packages\\pythonsoftwarefoundation.python.3.10_qbz5n2kfra8p0\\localcache\\local-packages\\python310\\site-packages (from openpyxl) (1.1.0)\n",
      "Note: you may need to restart the kernel to use updated packages.\n"
     ]
    },
    {
     "name": "stderr",
     "output_type": "stream",
     "text": [
      "\n",
      "[notice] A new release of pip available: 22.3.1 -> 23.0.1\n",
      "[notice] To update, run: C:\\Users\\marcb\\AppData\\Local\\Microsoft\\WindowsApps\\PythonSoftwareFoundation.Python.3.10_qbz5n2kfra8p0\\python.exe -m pip install --upgrade pip\n"
     ]
    }
   ],
   "source": [
    "pip install openpyxl"
   ]
  },
  {
   "cell_type": "code",
   "execution_count": 32,
   "metadata": {},
   "outputs": [],
   "source": [
    "import pandas as pd\n",
    "\n",
    "# Specify the input and output file paths\n",
    "input_file = 'Data/energy_Ampfing.xlsx'\n",
    "output_file = 'Data/energy_Ampfing.csv'\n"
   ]
  },
  {
   "cell_type": "code",
   "execution_count": 33,
   "metadata": {},
   "outputs": [],
   "source": [
    "# Load the Excel file into a Pandas dataframe\n",
    "df = pd.read_excel(input_file)"
   ]
  },
  {
   "cell_type": "code",
   "execution_count": 34,
   "metadata": {},
   "outputs": [],
   "source": [
    "# Write the dataframe to a CSV file\n",
    "df.to_csv(output_file, index=False)"
   ]
  },
  {
   "cell_type": "code",
   "execution_count": 35,
   "metadata": {},
   "outputs": [
    {
     "data": {
      "text/html": [
       "<div>\n",
       "<style scoped>\n",
       "    .dataframe tbody tr th:only-of-type {\n",
       "        vertical-align: middle;\n",
       "    }\n",
       "\n",
       "    .dataframe tbody tr th {\n",
       "        vertical-align: top;\n",
       "    }\n",
       "\n",
       "    .dataframe thead th {\n",
       "        text-align: right;\n",
       "    }\n",
       "</style>\n",
       "<table border=\"1\" class=\"dataframe\">\n",
       "  <thead>\n",
       "    <tr style=\"text-align: right;\">\n",
       "      <th></th>\n",
       "      <th>SourceName</th>\n",
       "      <th>Hackaton_Werkeingang_Ampfing</th>\n",
       "      <th>Unnamed: 2</th>\n",
       "      <th>Unnamed: 3</th>\n",
       "    </tr>\n",
       "  </thead>\n",
       "  <tbody>\n",
       "    <tr>\n",
       "      <th>0</th>\n",
       "      <td>DPName</td>\n",
       "      <td>DE_Ampfing_Suetag_ELEG_FOR</td>\n",
       "      <td>DE_Ampfing_Suetag_WAEF_FOR</td>\n",
       "      <td>DE_Ampfing_Suetag_WASG_FOR</td>\n",
       "    </tr>\n",
       "    <tr>\n",
       "      <th>1</th>\n",
       "      <td>Actual Source name</td>\n",
       "      <td>DE_Ampfing_Suetag_ELEG_FOR</td>\n",
       "      <td>DE_Ampfing_Suetag_WAEF_FOR</td>\n",
       "      <td>DE_Ampfing_Suetag_WASG_FOR</td>\n",
       "    </tr>\n",
       "    <tr>\n",
       "      <th>2</th>\n",
       "      <td>Location</td>\n",
       "      <td>DE_Ampfing Sütag</td>\n",
       "      <td>DE_Ampfing Sütag</td>\n",
       "      <td>DE_Ampfing Sütag</td>\n",
       "    </tr>\n",
       "    <tr>\n",
       "      <th>3</th>\n",
       "      <td>Description</td>\n",
       "      <td>Active energy plant input</td>\n",
       "      <td>Total external heat energy</td>\n",
       "      <td>Water supply at plant entrance</td>\n",
       "    </tr>\n",
       "    <tr>\n",
       "      <th>4</th>\n",
       "      <td>Unit</td>\n",
       "      <td>kW</td>\n",
       "      <td>kW</td>\n",
       "      <td>m3/h</td>\n",
       "    </tr>\n",
       "    <tr>\n",
       "      <th>...</th>\n",
       "      <td>...</td>\n",
       "      <td>...</td>\n",
       "      <td>...</td>\n",
       "      <td>...</td>\n",
       "    </tr>\n",
       "    <tr>\n",
       "      <th>120861</th>\n",
       "      <td>2023-03-15 23:00:00</td>\n",
       "      <td>812.64</td>\n",
       "      <td>NaN</td>\n",
       "      <td>NaN</td>\n",
       "    </tr>\n",
       "    <tr>\n",
       "      <th>120862</th>\n",
       "      <td>2023-03-15 23:15:00</td>\n",
       "      <td>915.52</td>\n",
       "      <td>NaN</td>\n",
       "      <td>NaN</td>\n",
       "    </tr>\n",
       "    <tr>\n",
       "      <th>120863</th>\n",
       "      <td>2023-03-15 23:30:00</td>\n",
       "      <td>861.92</td>\n",
       "      <td>NaN</td>\n",
       "      <td>NaN</td>\n",
       "    </tr>\n",
       "    <tr>\n",
       "      <th>120864</th>\n",
       "      <td>2023-03-15 23:45:00</td>\n",
       "      <td>1064.32</td>\n",
       "      <td>NaN</td>\n",
       "      <td>NaN</td>\n",
       "    </tr>\n",
       "    <tr>\n",
       "      <th>120865</th>\n",
       "      <td>2023-03-16 00:00:00</td>\n",
       "      <td>1125.92</td>\n",
       "      <td>NaN</td>\n",
       "      <td>NaN</td>\n",
       "    </tr>\n",
       "  </tbody>\n",
       "</table>\n",
       "<p>120866 rows × 4 columns</p>\n",
       "</div>"
      ],
      "text/plain": [
       "                 SourceName Hackaton_Werkeingang_Ampfing  \\\n",
       "0                    DPName   DE_Ampfing_Suetag_ELEG_FOR   \n",
       "1        Actual Source name   DE_Ampfing_Suetag_ELEG_FOR   \n",
       "2                  Location             DE_Ampfing Sütag   \n",
       "3               Description    Active energy plant input   \n",
       "4                      Unit                           kW   \n",
       "...                     ...                          ...   \n",
       "120861  2023-03-15 23:00:00                       812.64   \n",
       "120862  2023-03-15 23:15:00                       915.52   \n",
       "120863  2023-03-15 23:30:00                       861.92   \n",
       "120864  2023-03-15 23:45:00                      1064.32   \n",
       "120865  2023-03-16 00:00:00                      1125.92   \n",
       "\n",
       "                        Unnamed: 2                      Unnamed: 3  \n",
       "0       DE_Ampfing_Suetag_WAEF_FOR      DE_Ampfing_Suetag_WASG_FOR  \n",
       "1       DE_Ampfing_Suetag_WAEF_FOR      DE_Ampfing_Suetag_WASG_FOR  \n",
       "2                 DE_Ampfing Sütag                DE_Ampfing Sütag  \n",
       "3       Total external heat energy  Water supply at plant entrance  \n",
       "4                               kW                            m3/h  \n",
       "...                            ...                             ...  \n",
       "120861                         NaN                             NaN  \n",
       "120862                         NaN                             NaN  \n",
       "120863                         NaN                             NaN  \n",
       "120864                         NaN                             NaN  \n",
       "120865                         NaN                             NaN  \n",
       "\n",
       "[120866 rows x 4 columns]"
      ]
     },
     "execution_count": 35,
     "metadata": {},
     "output_type": "execute_result"
    }
   ],
   "source": [
    "df"
   ]
  },
  {
   "cell_type": "code",
   "execution_count": 36,
   "metadata": {},
   "outputs": [
    {
     "name": "stdout",
     "output_type": "stream",
     "text": [
      "                 SourceName Hackaton_Werkeingang_Feldhof  \\\n",
      "0                    DPName     CH_Daellikon_EB_ELEG_FOR   \n",
      "1        Actual Source name     CH_Daellikon_EB_ELEG_FOR   \n",
      "2                  Location          CH_Dällikon Feldhof   \n",
      "3               Description    Active energy plant input   \n",
      "4                      Unit                           kW   \n",
      "...                     ...                          ...   \n",
      "154037  2023-03-16 01:45:00                          NaN   \n",
      "154038  2023-03-16 02:00:00                          NaN   \n",
      "154039  2023-03-16 02:15:00                          NaN   \n",
      "154040  2023-03-16 02:30:00                          NaN   \n",
      "154041  2023-03-16 02:45:00                          NaN   \n",
      "\n",
      "                      Unnamed: 2                  Unnamed: 3  \\\n",
      "0       CH_Daellikon_EB_WAEA_FOR    CH_Daellikon_EB_WAEF_FOR   \n",
      "1       CH_Daellikon_EB_WAEA_FOR    CH_Daellikon_EB_WAEF_FOR   \n",
      "2            CH_Dällikon Feldhof         CH_Dällikon Feldhof   \n",
      "3        Total waste heat energy  Total external heat energy   \n",
      "4                             kW                          kW   \n",
      "...                          ...                         ...   \n",
      "154037                         0                   43.889012   \n",
      "154038                         0                   99.889012   \n",
      "154039                         0                   76.110988   \n",
      "154040                         0                 -223.711432   \n",
      "154041                         0                 -100.288568   \n",
      "\n",
      "                            Unnamed: 4  \n",
      "0             CH_Daellikon_EB_WASG_FOR  \n",
      "1             CH_Daellikon_EB_WASG_FOR  \n",
      "2                  CH_Dällikon Feldhof  \n",
      "3       Water supply at plant entrance  \n",
      "4                                 m3/h  \n",
      "...                                ...  \n",
      "154037                       23.825526  \n",
      "154038                             NaN  \n",
      "154039                             NaN  \n",
      "154040                             NaN  \n",
      "154041                             NaN  \n",
      "\n",
      "[154042 rows x 5 columns]\n"
     ]
    }
   ],
   "source": [
    "input_file = 'Data/energy_Feldhof.xlsx'\n",
    "output_file = 'Data/energy_Feldhof.csv'\n",
    "\n",
    "# Load the Excel file into a Pandas dataframe\n",
    "df2 = pd.read_excel(input_file)\n",
    "# Write the dataframe to a CSV file\n",
    "df2.to_csv(output_file, index=False)\n",
    "\n",
    "print(df2)"
   ]
  },
  {
   "cell_type": "code",
   "execution_count": 37,
   "metadata": {},
   "outputs": [
    {
     "name": "stdout",
     "output_type": "stream",
     "text": [
      "                SourceName  Hackaton_Werkeingang_Orbe  \\\n",
      "0                   DPName           CH_Orbe_ELEG_FOR   \n",
      "1       Actual Source name           CH_Orbe_ELEG_FOR   \n",
      "2                 Location                    CH_Orbe   \n",
      "3              Description  Active energy plant input   \n",
      "4                     Unit                         kW   \n",
      "...                    ...                        ...   \n",
      "94768  2023-03-20 02:00:00                        NaN   \n",
      "94769  2023-03-20 02:15:00                        NaN   \n",
      "94770  2023-03-20 02:30:00                        NaN   \n",
      "94771  2023-03-20 02:45:00                        NaN   \n",
      "94772  2023-03-20 03:00:00                        NaN   \n",
      "\n",
      "                       Unnamed: 2                      Unnamed: 3  \n",
      "0                CH_Orbe_WAEF_FOR                CH_Orbe_WASG_FOR  \n",
      "1                CH_Orbe_WAEF_FOR                CH_Orbe_WASG_FOR  \n",
      "2                         CH_Orbe                         CH_Orbe  \n",
      "3      Total external heat energy  Water supply at plant entrance  \n",
      "4                              kW                            m3/h  \n",
      "...                           ...                             ...  \n",
      "94768                           0                        0.004444  \n",
      "94769                           0                               0  \n",
      "94770                           0                        3.995556  \n",
      "94771                           0                        0.004444  \n",
      "94772                           0                               0  \n",
      "\n",
      "[94773 rows x 4 columns]\n"
     ]
    }
   ],
   "source": [
    "input_file = 'Data/energy_Orbe.xlsx'\n",
    "output_file = 'Data/energy_Orbe.csv'\n",
    "\n",
    "# Load the Excel file into a Pandas dataframe\n",
    "df3 = pd.read_excel(input_file)\n",
    "# Write the dataframe to a CSV file\n",
    "df3.to_csv(output_file, index=False)\n",
    "\n",
    "print(df3)"
   ]
  },
  {
   "cell_type": "code",
   "execution_count": 38,
   "metadata": {},
   "outputs": [
    {
     "name": "stdout",
     "output_type": "stream",
     "text": [
      "                 SourceName Hackaton_Werkeingang_Schiltach  \\\n",
      "0                    DPName          DE_Schiltach_ELEG_FOR   \n",
      "1        Actual Source name          DE_Schiltach_ELEG_FOR   \n",
      "2                  Location                   DE_Schiltach   \n",
      "3               Description      Active energy plant input   \n",
      "4                      Unit                             kW   \n",
      "...                     ...                            ...   \n",
      "199341  2023-03-20 01:45:00                     320.000806   \n",
      "199342  2023-03-20 02:00:00                     304.833792   \n",
      "199343  2023-03-20 02:15:00                     329.944016   \n",
      "199344  2023-03-20 02:30:00                     292.483569   \n",
      "199345  2023-03-20 02:45:00                     290.404458   \n",
      "\n",
      "                        Unnamed: 2                      Unnamed: 3  \n",
      "0            DE_Schiltach_WAEF_FOR           DE_Schiltach_WASG_FOR  \n",
      "1            DE_Schiltach_WAEF_FOR           DE_Schiltach_WASG_FOR  \n",
      "2                     DE_Schiltach                    DE_Schiltach  \n",
      "3       Total external heat energy  Water supply at plant entrance  \n",
      "4                               kW                            m3/h  \n",
      "...                            ...                             ...  \n",
      "199341                  225.506682                        0.024071  \n",
      "199342                         225                        0.039858  \n",
      "199343                       269.5                        0.087573  \n",
      "199344                         270                        0.028533  \n",
      "199345                       314.5                           0.028  \n",
      "\n",
      "[199346 rows x 4 columns]\n"
     ]
    }
   ],
   "source": [
    "input_file = 'Data/energy_Schiltach.xlsx'\n",
    "output_file = 'Data/energy_Schiltach.csv'\n",
    "\n",
    "# Load the Excel file into a Pandas dataframe\n",
    "df4 = pd.read_excel(input_file)\n",
    "# Write the dataframe to a CSV file\n",
    "df4.to_csv(output_file, index=False)\n",
    "\n",
    "print(df4)"
   ]
  },
  {
   "cell_type": "code",
   "execution_count": 39,
   "metadata": {},
   "outputs": [
    {
     "name": "stdout",
     "output_type": "stream",
     "text": [
      "                 SourceName   Hackaton_Werkeingang_Zell  \\\n",
      "0                    DPName  CH_Zell_Gefluegel_ELEG_FOR   \n",
      "1        Actual Source name  CH_Zell_Gefluegel_ELEG_FOR   \n",
      "2                  Location            CH_Zell Geflügel   \n",
      "3               Description   Active energy plant input   \n",
      "4                      Unit                          kW   \n",
      "...                     ...                         ...   \n",
      "180861  2023-03-15 23:00:00                         NaN   \n",
      "180862  2023-03-15 23:15:00                         NaN   \n",
      "180863  2023-03-15 23:30:00                         NaN   \n",
      "180864  2023-03-15 23:45:00                         NaN   \n",
      "180865  2023-03-16 00:00:00                         NaN   \n",
      "\n",
      "                        Unnamed: 2                       Unnamed: 3  \\\n",
      "0       CH_Zell_Gefluegel_WAEA_FOR       CH_Zell_Gefluegel_WAEF_FOR   \n",
      "1       CH_Zell_Gefluegel_WAEA_FOR  CH_Zell_Gefluegel_WAEF_FOR_TEST   \n",
      "2                 CH_Zell Geflügel                 CH_Zell Geflügel   \n",
      "3          Total waste heat energy       Total external heat energy   \n",
      "4                               kW                               kW   \n",
      "...                            ...                              ...   \n",
      "180861                         NaN                              NaN   \n",
      "180862                         NaN                              NaN   \n",
      "180863                         NaN                              NaN   \n",
      "180864                         NaN                              NaN   \n",
      "180865                         NaN                              NaN   \n",
      "\n",
      "                            Unnamed: 4  \n",
      "0           CH_Zell_Gefluegel_WASG_FOR  \n",
      "1           CH_Zell_Gefluegel_WASG_FOR  \n",
      "2                     CH_Zell Geflügel  \n",
      "3       Water supply at plant entrance  \n",
      "4                                 m3/h  \n",
      "...                                ...  \n",
      "180861                             NaN  \n",
      "180862                             NaN  \n",
      "180863                             NaN  \n",
      "180864                             NaN  \n",
      "180865                             NaN  \n",
      "\n",
      "[180866 rows x 5 columns]\n"
     ]
    }
   ],
   "source": [
    "input_file = 'Data/energy_zell.xlsx'\n",
    "output_file = 'Data/energy_zell.csv'\n",
    "\n",
    "# Load the Excel file into a Pandas dataframe\n",
    "df5 = pd.read_excel(input_file)\n",
    "# Write the dataframe to a CSV file\n",
    "df5.to_csv(output_file, index=False)\n",
    "\n",
    "print(df5)"
   ]
  },
  {
   "cell_type": "code",
   "execution_count": 40,
   "metadata": {},
   "outputs": [
    {
     "name": "stderr",
     "output_type": "stream",
     "text": [
      "C:\\Users\\marcb\\AppData\\Local\\Temp\\ipykernel_8876\\614355082.py:1: DtypeWarning: Columns (1,2,3,4) have mixed types. Specify dtype option on import or set low_memory=False.\n",
      "  df5 = pd.read_csv('energy_zell.csv')\n"
     ]
    }
   ],
   "source": [
    "df5 = pd.read_csv('Data/energy_zell.csv')\n"
   ]
  },
  {
   "cell_type": "code",
   "execution_count": null,
   "metadata": {},
   "outputs": [
    {
     "data": {
      "text/plain": [
       "array([[<AxesSubplot:xlabel='ts'>, <AxesSubplot:xlabel='ts'>,\n",
       "        <AxesSubplot:xlabel='ts'>],\n",
       "       [<AxesSubplot:xlabel='ts'>, <AxesSubplot:xlabel='ts'>,\n",
       "        <AxesSubplot:xlabel='ts'>],\n",
       "       [<AxesSubplot:xlabel='ts'>, <AxesSubplot:xlabel='ts'>,\n",
       "        <AxesSubplot:xlabel='ts'>]], dtype=object)"
      ]
     },
     "execution_count": 28,
     "metadata": {},
     "output_type": "execute_result"
    },
    {
     "data": {
      "image/png": "[encoded data removed]",
      "text/plain": [
       "<Figure size 720x720 with 9 Axes>"
      ]
     },
     "metadata": {
      "needs_background": "light"
     },
     "output_type": "display_data"
    }
   ],
   "source": [
    "from matplotlib import pyplot as plt \n",
    "# Plot all numerical variables\n",
    "df5.plot(kind='line', subplots=True, layout=(3,3), figsize=(10,10))"
   ]
  }
 ],
 "metadata": {
  "kernelspec": {
   "display_name": "aci2021",
   "language": "python",
   "name": "python3"
  },
  "language_info": {
   "codemirror_mode": {
    "name": "ipython",
    "version": 3
   },
   "file_extension": ".py",
   "mimetype": "text/x-python",
   "name": "python",
   "nbconvert_exporter": "python",
   "pygments_lexer": "ipython3",
   "version": "3.10.10"
  },
  "orig_nbformat": 4
 },
 "nbformat": 4,
 "nbformat_minor": 2
}
